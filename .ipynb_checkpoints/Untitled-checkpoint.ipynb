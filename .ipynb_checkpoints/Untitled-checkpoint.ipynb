{
 "cells": [
  {
   "cell_type": "markdown",
   "metadata": {},
   "source": [
    "Importing all the required libraries!"
   ]
  },
  {
   "cell_type": "code",
   "execution_count": 1,
   "metadata": {},
   "outputs": [],
   "source": [
    "import pandas as pd\n",
    "import numpy as np\n",
    "import os, glob\n"
   ]
  },
  {
   "cell_type": "code",
   "execution_count": 2,
   "metadata": {},
   "outputs": [],
   "source": [
    "train_df=pd.read_csv('training.csv')"
   ]
  },
  {
   "cell_type": "code",
   "execution_count": 3,
   "metadata": {},
   "outputs": [
    {
     "data": {
      "text/plain": [
       "<bound method NDFrame.head of                                               image_name   x1   x2   y1   y2\n",
       "0                 JPEG_20160706_121146_1000145715002.png  115  495  143  325\n",
       "1                 JPEG_20161119_174038_1000690577600.png   23  457   61  409\n",
       "2      147444927651111470309333776-Roadster-Men-Casua...   37  601   13  470\n",
       "3                       147772332675720161028_161611.png   27  602  162  385\n",
       "4                       1473315333651DeeplearnS11638.png   60  586  174  325\n",
       "5                 JPEG_20161129_143914_1000304878557.png   35  549   37  442\n",
       "6                 JPEG_20161028_100621_1000815239330.png   77  558   86  434\n",
       "7                              1475060075141DSC02381.png   50  627   95  320\n",
       "8                         1473317734429DeeplearnS142.png  104  552   83  428\n",
       "9                 JPEG_20160607_153530_1000669241198.png  134  500   67  429\n",
       "10                JPEG_20160627_154106_1000265795536.png   99  524   80  294\n",
       "11                JPEG_20161129_134328_1000772650224.png   59  587  110  395\n",
       "12                JPEG_20161201_123114_1000360160859.png   52  625  142  304\n",
       "13                JPEG_20160621_155815_1000614998565.png  179  465   41  416\n",
       "14                      147771721999620161028_150629.png   77  481   79  444\n",
       "15                             1480066865683IMG_0157.png   85  449  160  338\n",
       "16                      147772025319520161028_151915.png   22  613  150  354\n",
       "17                      147742629330620161025_155320.png  125  499   20  268\n",
       "18                JPEG_20160527_155124_1000980290136.png  154  467    0  480\n",
       "19                  JPEG_20161028_121752_10003102030.png  134  546  161  349\n",
       "20                             1474638701993DSC06811.png  161  573   43  382\n",
       "21                JPEG_20160628_132442_1000306311172.png  114  542  125  372\n",
       "22                      147742527128620161025_151026.png   42  479  119  364\n",
       "23                             1480944963239_R2A1990.png  226  421  254  347\n",
       "24                 JPEG_20160804_161517_100037187045.png   28  602   48  423\n",
       "25                JPEG_20160709_131920_1000403949668.png   24  477   19  472\n",
       "26                             1474711748206DSC07405.png   65  609  107  334\n",
       "27                JPEG_20161124_133940_1000370433134.png  209  389   27  438\n",
       "28                JPEG_20161123_185817_1000936746234.png  175  486  164  299\n",
       "29                 JPEG_20160723_192023_100022810186.png    0  640    0  440\n",
       "...                                                  ...  ...  ...  ...  ...\n",
       "13970             JPEG_20160624_132539_1000300515085.png  138  515  161  417\n",
       "13971                   1473664828777DeeplearnS11666.png   34  602   85  355\n",
       "13972             JPEG_20160624_162947_1000724056324.png  126  608  167  336\n",
       "13973             JPEG_20160623_121025_1000686655059.png  146  554  160  300\n",
       "13974                          1474714370978DSC07310.png   43  618   21  435\n",
       "13975                          1480967212369IMG_3161.png  219  436  207  409\n",
       "13976             JPEG_20161104_132323_1000627003772.png   37  599    0  411\n",
       "13977             JPEG_20161124_195312_1000358815600.png   54  486  138  309\n",
       "13978             JPEG_20161201_153907_1000647088730.png  135  469  106  430\n",
       "13979              JPEG_20161118_184720_100074318908.png    3  638  119  342\n",
       "13980             JPEG_20160701_144110_1000199949697.png   78  363  179  319\n",
       "13981             JPEG_20161126_170528_1000665098066.png    2  640   16  462\n",
       "13982             JPEG_20160820_145257_1000508945244.png  235  478   45  459\n",
       "13983                          1480511829166IMG_0370.png   91  505   66  367\n",
       "13984                   147772212280520161028_170527.png   64  640   88  480\n",
       "13985             JPEG_20160527_160758_1000712639127.png   96  496   58  419\n",
       "13986             JPEG_20161126_125017_1000542752991.png   39  549  151  331\n",
       "13987              JPEG_20161126_175757_100044023397.png  133  432   11  428\n",
       "13988  1469623513031JPEG_20160628_131915_100086406883...  133  408  122  416\n",
       "13989                          1480965764483IMG_3085.png  241  456  203  428\n",
       "13990             JPEG_20161010_143459_1000673300701.png  115  462   32  460\n",
       "13991             JPEG_20161129_173218_1000750824966.png  100  597  182  317\n",
       "13992             JPEG_20161123_175126_1000727471157.png  157  559  156  327\n",
       "13993             JPEG_20161126_125818_1000750724805.png   97  575   94  380\n",
       "13994             JPEG_20161121_170246_1000639906637.png   45  537   99  356\n",
       "13995             JPEG_20161123_192639_1000159593348.png   71  383   32  457\n",
       "13996             JPEG_20160630_112055_1000866032892.png   72  577  110  273\n",
       "13997             JPEG_20161209_144221_1000965510278.png    0  485   26  480\n",
       "13998  1469616355586JPEG_20160625_121504_100033222506...  254  375   31  449\n",
       "13999             JPEG_20160711_125046_1000355681348.png  212  437  101  454\n",
       "\n",
       "[14000 rows x 5 columns]>"
      ]
     },
     "execution_count": 3,
     "metadata": {},
     "output_type": "execute_result"
    }
   ],
   "source": [
    "train_df.head"
   ]
  },
  {
   "cell_type": "code",
   "execution_count": 4,
   "metadata": {},
   "outputs": [],
   "source": [
    "train_img_list = glob.glob(\"images/*\")\n",
    "\n"
   ]
  },
  {
   "cell_type": "code",
   "execution_count": 5,
   "metadata": {},
   "outputs": [
    {
     "data": {
      "text/plain": [
       "56791"
      ]
     },
     "execution_count": 5,
     "metadata": {},
     "output_type": "execute_result"
    }
   ],
   "source": [
    "len(train_img_list)"
   ]
  },
  {
   "cell_type": "code",
   "execution_count": 6,
   "metadata": {},
   "outputs": [],
   "source": [
    "def import_data():\n",
    "    train_img_data = []\n",
    "    test_img_data = []\n",
    "    train_label_data = []\n",
    "    test_label_data = []\n",
    "    \n",
    "    for img in train_img_list:\n",
    "        img_read = io.imread(img, channels = 1)\n",
    "        img_read = transform.resize(img_read, (128,128), mode = 'constant')\n",
    "        train_img_data.append(img_read)\n",
    "        train_label_data.append(img[-5])\n",
    "    \n",
    "   \n",
    "        \n",
    "    return np.array(train_img_data),np.array(train_label_data)"
   ]
  },
  {
   "cell_type": "code",
   "execution_count": 7,
   "metadata": {},
   "outputs": [
    {
     "ename": "NameError",
     "evalue": "name 'io' is not defined",
     "output_type": "error",
     "traceback": [
      "\u001b[1;31m---------------------------------------------------------------------------\u001b[0m",
      "\u001b[1;31mNameError\u001b[0m                                 Traceback (most recent call last)",
      "\u001b[1;32m<ipython-input-7-70c0505095d9>\u001b[0m in \u001b[0;36m<module>\u001b[1;34m()\u001b[0m\n\u001b[1;32m----> 1\u001b[1;33m \u001b[0mx\u001b[0m\u001b[1;33m,\u001b[0m\u001b[0mx1\u001b[0m\u001b[1;33m=\u001b[0m\u001b[0mimport_data\u001b[0m\u001b[1;33m(\u001b[0m\u001b[1;33m)\u001b[0m\u001b[1;33m\u001b[0m\u001b[0m\n\u001b[0m",
      "\u001b[1;32m<ipython-input-6-082408c7650a>\u001b[0m in \u001b[0;36mimport_data\u001b[1;34m()\u001b[0m\n\u001b[0;32m      6\u001b[0m \u001b[1;33m\u001b[0m\u001b[0m\n\u001b[0;32m      7\u001b[0m     \u001b[1;32mfor\u001b[0m \u001b[0mimg\u001b[0m \u001b[1;32min\u001b[0m \u001b[0mtrain_img_list\u001b[0m\u001b[1;33m:\u001b[0m\u001b[1;33m\u001b[0m\u001b[0m\n\u001b[1;32m----> 8\u001b[1;33m         \u001b[0mimg_read\u001b[0m \u001b[1;33m=\u001b[0m \u001b[0mio\u001b[0m\u001b[1;33m.\u001b[0m\u001b[0mimread\u001b[0m\u001b[1;33m(\u001b[0m\u001b[0mimg\u001b[0m\u001b[1;33m,\u001b[0m \u001b[0mchannels\u001b[0m \u001b[1;33m=\u001b[0m \u001b[1;36m1\u001b[0m\u001b[1;33m)\u001b[0m\u001b[1;33m\u001b[0m\u001b[0m\n\u001b[0m\u001b[0;32m      9\u001b[0m         \u001b[0mimg_read\u001b[0m \u001b[1;33m=\u001b[0m \u001b[0mtransform\u001b[0m\u001b[1;33m.\u001b[0m\u001b[0mresize\u001b[0m\u001b[1;33m(\u001b[0m\u001b[0mimg_read\u001b[0m\u001b[1;33m,\u001b[0m \u001b[1;33m(\u001b[0m\u001b[1;36m128\u001b[0m\u001b[1;33m,\u001b[0m\u001b[1;36m128\u001b[0m\u001b[1;33m)\u001b[0m\u001b[1;33m,\u001b[0m \u001b[0mmode\u001b[0m \u001b[1;33m=\u001b[0m \u001b[1;34m'constant'\u001b[0m\u001b[1;33m)\u001b[0m\u001b[1;33m\u001b[0m\u001b[0m\n\u001b[0;32m     10\u001b[0m         \u001b[0mtrain_img_data\u001b[0m\u001b[1;33m.\u001b[0m\u001b[0mappend\u001b[0m\u001b[1;33m(\u001b[0m\u001b[0mimg_read\u001b[0m\u001b[1;33m)\u001b[0m\u001b[1;33m\u001b[0m\u001b[0m\n",
      "\u001b[1;31mNameError\u001b[0m: name 'io' is not defined"
     ]
    }
   ],
   "source": [
    "x,x1=import_data()"
   ]
  },
  {
   "cell_type": "code",
   "execution_count": null,
   "metadata": {},
   "outputs": [],
   "source": []
  },
  {
   "cell_type": "code",
   "execution_count": null,
   "metadata": {},
   "outputs": [],
   "source": []
  }
 ],
 "metadata": {
  "kernelspec": {
   "display_name": "Python 3",
   "language": "python",
   "name": "python3"
  },
  "language_info": {
   "codemirror_mode": {
    "name": "ipython",
    "version": 3
   },
   "file_extension": ".py",
   "mimetype": "text/x-python",
   "name": "python",
   "nbconvert_exporter": "python",
   "pygments_lexer": "ipython3",
   "version": "3.5.6"
  }
 },
 "nbformat": 4,
 "nbformat_minor": 2
}
